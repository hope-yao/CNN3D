{
 "cells": [
  {
   "cell_type": "code",
   "execution_count": 31,
   "metadata": {
    "collapsed": false
   },
   "outputs": [
    {
     "name": "stdout",
     "output_type": "stream",
     "text": [
      "2.12923860073\n",
      "2.08225922346\n"
     ]
    }
   ],
   "source": [
    "# bs = 16\n",
    "# a = [0.6315000057220459, 0.6136939525604248, 0.6143510341644287, 0.6162309646606445, 0.6121659278869629, 0.6437571048736572, 0.6218907833099365, 0.6202189922332764, 0.6193230152130127, 0.6378951072692871, 0.6259279251098633, 0.6229150295257568, 0.6286990642547607, 0.6194019317626953, 0.6172008514404297, 0.6154029369354248, 0.6193740367889404, 0.6169381141662598, 0.6177740097045898, 0.6303691864013672, 0.6210777759552002, 0.6258440017700195, 0.6188778877258301, 0.6190919876098633, 0.6146860122680664, 0.673602819442749, 0.618602991104126, 0.6172990798950195, 0.6180500984191895, 0.6260480880737305, 0.6280231475830078, 0.6239738464355469, 0.6182489395141602, 0.6147949695587158, 0.6067800521850586, 0.6140480041503906, 0.6072430610656738, 0.601377010345459, 0.6068019866943359, 0.6155319213867188]\n",
    "# b = [0.659153938293457, 0.6211299896240234, 0.6189329624176025, 0.6157259941101074, 0.6147401332855225, 0.6172370910644531, 0.6163790225982666, 0.617311954498291, 0.6147029399871826, 0.6143660545349121, 0.6363718509674072, 0.6204679012298584, 0.6146559715270996, 0.5430300235748291, 0.5454790592193604, 0.546428918838501, 0.5479578971862793, 0.551196813583374, 0.5483660697937012, 0.5506250858306885, 0.568972110748291, 0.5532498359680176, 0.55690598487854, 0.5500009059906006, 0.5446128845214844, 0.541949987411499, 0.5383861064910889, 0.5430498123168945, 0.5432350635528564, 0.5474879741668701, 0.5447239875793457, 0.5546879768371582, 0.5507421493530273, 0.549854040145874, 0.553739070892334, 0.5513420104980469, 0.5452377796173096, 0.5464379787445068, 0.548271894454956, 0.5509841442108154]\n",
    "\n",
    "# a = [0.6014981269836426, 0.601032018661499, 0.6649050712585449, 0.6264278888702393, 0.628809928894043, 0.6296322345733643, 0.628587007522583, 0.6357390880584717, 0.6875050067901611, 0.7244861125946045, 0.6277430057525635, 0.6208078861236572, 0.6204369068145752, 0.6176760196685791, 0.6139671802520752, 0.6189579963684082, 0.6107101440429688, 0.611717939376831, 0.6144680976867676, 0.6342780590057373, 0.6197998523712158, 0.6170070171356201, 0.6166448593139648, 0.6150510311126709, 0.6156649589538574, 0.6215999126434326, 0.6030380725860596, 0.6042890548706055, 0.607550859451294, 0.6119468212127686, 0.6304440498352051, 0.6130108833312988, 0.6093931198120117, 0.6082589626312256, 0.605963945388794, 0.6052320003509521, 0.6041600704193115, 0.6056149005889893, 0.607147216796875, 0.6078600883483887, 0.6119630336761475, 0.6290209293365479, 0.6133720874786377, 0.6100599765777588, 0.6101908683776855, 0.6043169498443604, 0.6052491664886475, 0.6048169136047363, 0.6049778461456299, 0.6034262180328369, 0.6066961288452148, 0.6445319652557373, 0.6103692054748535, 0.6078047752380371, 0.6065161228179932, 0.6062569618225098, 0.6043670177459717, 0.604586124420166, 0.6038730144500732, 0.6044330596923828, 0.6048259735107422, 0.605841875076294, 0.6216568946838379, 0.6105618476867676, 0.6120650768280029, 0.6093301773071289, 0.6070661544799805, 0.6046810150146484, 0.606309175491333, 0.6060919761657715, 0.6034529209136963, 0.6037120819091797, 0.620265007019043, 0.6105740070343018, 0.6110508441925049, 0.610029935836792, 0.6063129901885986, 0.6059069633483887, 0.6065549850463867, 0.6046781539916992, 0.6058199405670166, 0.6057729721069336, 0.6109390258789062, 0.6267831325531006, 0.6104030609130859, 0.6094880104064941, 0.6064088344573975, 0.6050441265106201, 0.6047830581665039, 0.603740930557251, 0.6028459072113037, 0.6047849655151367, 0.6050570011138916, 0.6281290054321289, 0.6101019382476807, 0.6076951026916504, 0.6086468696594238, 0.60719895362854, 0.6085031032562256, 0.6062381267547607]\n",
    "# b = [0.6266841888427734, 0.6153712272644043, 0.6173160076141357, 0.6172919273376465, 0.6198060512542725, 0.6385700702667236, 0.6152019500732422, 0.615009069442749, 0.6138441562652588, 0.6165339946746826, 0.6204309463500977, 0.6220760345458984, 0.6218230724334717, 0.616523027420044, 0.6151490211486816, 0.630457878112793, 0.614375114440918, 0.6150391101837158, 0.6163280010223389, 0.6165158748626709, 0.6173868179321289, 0.6186690330505371, 0.6189520359039307, 0.6179001331329346, 0.6191771030426025, 0.6190669536590576, 0.6309609413146973, 0.6187529563903809, 0.6171231269836426, 0.6169910430908203, 0.6163730621337891, 0.6239938735961914, 0.6211090087890625, 0.6223199367523193, 0.6219251155853271, 0.6209628582000732, 0.6157948970794678, 0.6276688575744629, 0.6154048442840576, 0.6160380840301514, 0.6169919967651367, 0.6176319122314453, 0.6203148365020752, 0.6205339431762695, 0.6144289970397949, 0.6138989925384521, 0.6144061088562012, 0.6130471229553223, 0.6125650405883789, 0.6355750560760498, 0.6174850463867188, 0.6197690963745117, 0.6192319393157959, 0.6226239204406738, 0.6172947883605957, 0.6141729354858398, 0.611901044845581, 0.6123340129852295, 0.6145961284637451, 0.6171321868896484, 0.6401591300964355, 0.6179859638214111, 0.6131999492645264, 0.6083991527557373, 0.6139171123504639, 0.6170918941497803, 0.6183099746704102, 0.6170380115509033, 0.6155121326446533, 0.6126701831817627, 0.6143088340759277, 0.6336841583251953, 0.6141741275787354, 0.6130509376525879, 0.6164469718933105, 0.6182000637054443, 0.6164469718933105, 0.6188790798187256, 0.6167271137237549, 0.6187400817871094, 0.6231398582458496, 0.6152520179748535, 0.6266899108886719, 0.6153390407562256, 0.616264820098877, 0.6192581653594971, 0.620729923248291, 0.6151409149169922, 0.6174759864807129, 0.6139881610870361, 0.6152198314666748, 0.6185050010681152, 0.6194961071014404, 0.6259219646453857, 0.6164391040802002, 0.6161608695983887, 0.6144800186157227, 0.605478048324585, 0.616757869720459, 0.6206979751586914]\n",
    "\n",
    "# a = [0.6106019020080566, 0.6080551147460938, 0.6194350719451904, 0.6342709064483643, 0.5980739593505859, 0.6046299934387207, 0.605198860168457, 0.6068627834320068, 0.6456959247589111, 0.5360088348388672, 0.5488979816436768, 0.5321009159088135, 0.521629810333252, 0.5324280261993408, 0.5231249332427979, 0.5282349586486816, 0.5265548229217529, 0.5236752033233643, 0.5247898101806641, 0.5381410121917725, 0.5328798294067383, 0.5298440456390381, 0.5251939296722412, 0.5303030014038086, 0.5230820178985596, 0.5209319591522217, 0.5328629016876221, 0.5239100456237793, 0.5260138511657715, 0.5259058475494385, 0.5455899238586426, 0.5317699909210205, 0.5320079326629639, 0.5277099609375, 0.523097038269043, 0.5229899883270264, 0.5206680297851562, 0.5208020210266113, 0.5245559215545654, 0.5259878635406494, 0.524806022644043, 0.5425488948822021, 0.5338599681854248, 0.5313031673431396, 0.5360510349273682, 0.5269529819488525, 0.5285398960113525, 0.5267350673675537, 0.527000904083252, 0.5289211273193359, 0.5267660617828369, 0.5616359710693359, 0.5352628231048584, 0.5229651927947998, 0.5209560394287109, 0.5198581218719482, 0.5191261768341064, 0.51698899269104, 0.5181450843811035, 0.5175039768218994, 0.5201778411865234, 0.5183260440826416, 0.5295331478118896, 0.520927906036377, 0.5287520885467529, 0.525933027267456, 0.522371768951416, 0.5262620449066162, 0.5184288024902344, 0.5177249908447266, 0.5189809799194336, 0.5235629081726074, 0.532325029373169, 0.5331239700317383, 0.5308170318603516, 0.5287609100341797, 0.5188519954681396, 0.5139930248260498, 0.5132198333740234, 0.5109260082244873, 0.5130469799041748, 0.519428014755249, 0.5282208919525146, 0.541877031326294, 0.5267519950866699, 0.5258750915527344, 0.5246529579162598, 0.5261139869689941, 0.514660120010376, 0.5159831047058105, 0.5216748714447021, 0.5241508483886719, 0.5207741260528564, 0.5456550121307373, 0.5254988670349121, 0.5272979736328125, 0.5290260314941406, 0.5256400108337402, 0.5269279479980469, 0.5126228332519531]\n",
    "# b = [0.5311529636383057, 0.5245969295501709, 0.5283279418945312, 0.5227310657501221, 0.5343289375305176, 0.5538101196289062, 0.5327749252319336, 0.524914026260376, 0.53171706199646, 0.52445387840271, 0.5415761470794678, 0.534074068069458, 0.533268928527832, 0.533750057220459, 0.518733024597168, 0.5371730327606201, 0.5281510353088379, 0.5336151123046875, 0.5316481590270996, 0.5332610607147217, 0.5293600559234619, 0.5307879447937012, 0.5326027870178223, 0.5391948223114014, 0.5309209823608398, 0.5372960567474365, 0.5399789810180664, 0.5311629772186279, 0.5278620719909668, 0.5298070907592773, 0.5292470455169678, 0.531775951385498, 0.5294220447540283, 0.5285811424255371, 0.5330660343170166, 0.5324649810791016, 0.5243971347808838, 0.5251169204711914, 0.5253961086273193, 0.5233099460601807, 0.5253880023956299, 0.5187289714813232, 0.5280609130859375, 0.5267031192779541, 0.5209288597106934, 0.5225579738616943, 0.5246028900146484, 0.5220768451690674, 0.5265541076660156, 0.5423569679260254, 0.5248699188232422, 0.5279850959777832, 0.529181957244873, 0.5326199531555176, 0.5293068885803223, 0.5289039611816406, 0.5268340110778809, 0.5262579917907715, 0.525536060333252, 0.52947998046875, 0.5477268695831299, 0.5370697975158691, 0.5299561023712158, 0.5305948257446289, 0.5224919319152832, 0.5329618453979492, 0.526771068572998, 0.5342979431152344, 0.5308260917663574, 0.5312581062316895, 0.5203289985656738, 0.5421559810638428, 0.5214760303497314, 0.5271480083465576, 0.52730393409729, 0.5248749256134033, 0.5247259140014648, 0.5274069309234619, 0.5214622020721436, 0.5309131145477295, 0.5325291156768799, 0.5323390960693359, 0.532006025314331, 0.5243008136749268, 0.5441849231719971, 0.5402429103851318, 0.5410220623016357, 0.5335650444030762, 0.5291290283203125, 0.5233759880065918, 0.5316510200500488, 0.5355339050292969, 0.5396990776062012, 0.5459511280059814, 0.5352258682250977, 0.5481088161468506, 0.5498478412628174, 0.5532209873199463, 0.5450670719146729, 0.5425369739532471]\n",
    "\n",
    "# bs = 32\n",
    "a = [2.39447283744812, 2.3895740509033203, 2.3838517665863037, 2.367983818054199, 2.3741438388824463, 2.3678841590881348, 2.3737659454345703, 2.3698341846466064, 2.375262975692749, 2.4302380084991455, 2.394765853881836, 2.395965099334717, 2.3810489177703857, 2.375563859939575, 2.3714611530303955, 2.3667330741882324, 2.3667550086975098, 2.1583011150360107, 2.0766429901123047, 2.1251959800720215, 2.10262393951416, 2.0718321800231934, 2.0649490356445312, 2.077385187149048, 2.0384700298309326, 2.053881883621216, 2.033139944076538, 2.033339023590088, 2.035691022872925, 2.0582590103149414, 2.1143500804901123, 2.063021183013916, 2.063488006591797, 2.0515010356903076, 2.052583932876587, 2.0780248641967773, 2.07676100730896, 2.0664730072021484, 2.063616991043091, 2.0713541507720947, 2.089179039001465, 2.179142951965332, 2.085651159286499, 2.0750420093536377, 2.0716450214385986, 2.070430040359497, 2.0745010375976562, 2.0560951232910156, 2.0633227825164795, 2.064462900161743, 2.059941053390503, 2.1579909324645996, 2.088561773300171, 2.0800998210906982, 2.0707309246063232, 2.0554769039154053, 2.065354108810425, 2.063910961151123, 2.041193962097168, 2.063292980194092, 2.062053918838501, 2.060084104537964, 2.1012258529663086, 2.09066104888916, 2.081080913543701, 2.078293800354004, 2.0759201049804688, 2.063192129135132, 2.0700809955596924, 2.0703580379486084, 2.0718889236450195, 2.0762269496917725, 2.1175358295440674, 2.0968148708343506, 2.091015100479126, 2.0885941982269287, 2.068018913269043, 2.060702085494995, 2.057054042816162, 2.0587408542633057, 2.082482099533081, 2.079586982727051, 2.0904269218444824, 2.1305298805236816, 2.0972940921783447, 2.0873990058898926, 2.078416109085083, 2.0734140872955322, 2.0747058391571045, 2.0759329795837402, 2.0786259174346924, 2.069931983947754, 2.07112193107605, 2.1564908027648926, 2.096791982650757, 2.089240074157715, 2.053955078125, 2.077378034591675, 2.073065996170044, 2.061311960220337]\n",
    "b = [2.1173901557922363, 2.0879881381988525, 2.0810399055480957, 2.080688953399658, 2.087372064590454, 2.162341833114624, 2.1112141609191895, 2.0962820053100586, 2.0960628986358643, 2.083961009979248, 2.0932819843292236, 2.1012749671936035, 2.093714952468872, 2.0914340019226074, 2.078355073928833, 2.1220290660858154, 2.0793089866638184, 2.0770788192749023, 2.098114013671875, 2.0679309368133545, 2.077955961227417, 2.0772929191589355, 2.0798258781433105, 2.0698277950286865, 2.110764980316162, 2.091856002807617, 2.113557815551758, 2.0855069160461426, 2.102591037750244, 2.106706142425537, 2.0803229808807373, 2.0867879390716553, 2.084350824356079, 2.1062910556793213, 2.1071882247924805, 2.0944600105285645, 2.0736610889434814, 2.095073938369751, 2.0654799938201904, 2.06693696975708, 2.070328950881958, 2.0638139247894287, 2.0882580280303955, 2.0813329219818115, 2.0827770233154297, 2.06923508644104, 2.0726940631866455, 2.080533981323242, 2.062795877456665, 2.1357650756835938, 2.0833988189697266, 2.0717577934265137, 2.06437611579895, 2.0835299491882324, 2.0846641063690186, 2.066628932952881, 2.0531821250915527, 2.0644919872283936, 2.0533010959625244, 2.058716058731079, 2.1361148357391357, 2.078200101852417, 2.0756149291992188, 2.0532100200653076, 2.0744261741638184, 2.0722978115081787, 2.074215888977051, 2.0765559673309326, 2.0686919689178467, 2.0555419921875, 2.054637908935547, 2.112492084503174, 2.0742411613464355, 2.0589499473571777, 2.0742950439453125, 2.0509378910064697, 2.0643389225006104, 2.0681450366973877, 2.0759918689727783, 2.1011619567871094, 2.0836079120635986, 2.0603678226470947, 2.126128911972046, 2.0893189907073975, 2.101691961288452, 2.0591769218444824, 2.084512948989868, 2.08028507232666, 2.0696589946746826, 2.069514036178589, 2.0533950328826904, 2.0656380653381348, 2.075263023376465, 2.1011669635772705, 2.056823968887329, 2.0792288780212402, 2.062347888946533, 2.0570521354675293, 2.083728075027466, 2.092068910598755]\n",
    "\n",
    "print(sum(a)/len(a))\n",
    "print(sum(b)/len(b))\n",
    "\n",
    "import numpy as np\n",
    "c = np.arange(0,len(a))\n",
    "import matplotlib.pyplot as plt\n",
    "plt.figure()\n",
    "plt.plot(c,a,'r')\n",
    "plt.plot(c,b,'b')\n",
    "plt.show()"
   ]
  },
  {
   "cell_type": "code",
   "execution_count": 22,
   "metadata": {
    "collapsed": false
   },
   "outputs": [
    {
     "name": "stdout",
     "output_type": "stream",
     "text": [
      "68.096454066\n"
     ]
    }
   ],
   "source": []
  },
  {
   "cell_type": "code",
   "execution_count": 10,
   "metadata": {
    "collapsed": false
   },
   "outputs": [
    {
     "name": "stdout",
     "output_type": "stream",
     "text": [
      "1 1 2 3 5 8 13 21 34 55\n"
     ]
    }
   ],
   "source": [
    "# generator version\n",
    "def fibon(n):\n",
    "    a = b = 1\n",
    "    for i in xrange(n):\n",
    "        yield a\n",
    "        a, b = b, a + b\n",
    "\n",
    "for x in fibon(10):\n",
    "    print x,"
   ]
  },
  {
   "cell_type": "code",
   "execution_count": 15,
   "metadata": {
    "collapsed": false
   },
   "outputs": [],
   "source": [
    "''' generator, ref: http://stackoverflow.com/questions/231767/what-does-the-yield-keyword-do'''\n",
    "\n",
    "filter_sizes = [1,2]\n",
    "feature_maps = [3,4]\n",
    "conv_parameters = zip(filter_sizes, feature_maps)\n",
    "c = (a+b for i, (a, b) in enumerate(conv_parameters))"
   ]
  },
  {
   "cell_type": "code",
   "execution_count": 16,
   "metadata": {
    "collapsed": false
   },
   "outputs": [
    {
     "data": {
      "text/plain": [
       "[4, 6]"
      ]
     },
     "execution_count": 16,
     "metadata": {},
     "output_type": "execute_result"
    }
   ],
   "source": [
    "list(c)"
   ]
  },
  {
   "cell_type": "code",
   "execution_count": 72,
   "metadata": {
    "collapsed": false
   },
   "outputs": [
    {
     "name": "stdout",
     "output_type": "stream",
     "text": [
      "init D\n",
      "B.__init__()\n",
      "C.__init__()\n",
      "A.__init__()\n"
     ]
    }
   ],
   "source": [
    "'''class hierarchy, super'''\n",
    "class A(object):\n",
    "    def __init__(self,**kwargs):\n",
    "        print(\"A.__init__()\")\n",
    "#         print(kwargs['c'])\n",
    "\n",
    "class B(A):\n",
    "    def __init__(self,**kwargs):\n",
    "        print(\"B.__init__()\")\n",
    "        for name, value in kwargs.items():\n",
    "            print(value)\n",
    "        super(B, self).__init__(**kwargs)\n",
    "\n",
    "class C(A):\n",
    "    def __init__(self,**kwargs):\n",
    "        print(\"C.__init__()\")\n",
    "        for name, value in kwargs.items():\n",
    "            print(value)\n",
    "        super(C,self).__init__(**kwargs)\n",
    "        \n",
    "class D(B,C):\n",
    "    def __init__(self,a,**kwargs):\n",
    "        print(\"init D\")\n",
    "        super(D,self).__init__(**kwargs)\n",
    "d = D(a=0,b=1,c=2)"
   ]
  },
  {
   "cell_type": "code",
   "execution_count": 80,
   "metadata": {
    "collapsed": false
   },
   "outputs": [
    {
     "name": "stdout",
     "output_type": "stream",
     "text": [
      "Entering func1\n",
      "inside func1()\n",
      "Exited func1\n"
     ]
    },
    {
     "data": {
      "text/plain": [
       "'new_f'"
      ]
     },
     "execution_count": 80,
     "metadata": {},
     "output_type": "execute_result"
    }
   ],
   "source": [
    "'''decorator'''\n",
    "def entryExit(f):\n",
    "    def new_f():\n",
    "        print \"Entering\", f.__name__\n",
    "        f()\n",
    "        print \"Exited\", f.__name__\n",
    "    return new_f\n",
    "\n",
    "@entryExit\n",
    "def func1():\n",
    "    print \"inside func1()\"\n",
    "\n",
    "@entryExit\n",
    "def func2():\n",
    "    print \"inside func2()\"\n",
    "func1()\n",
    "func2.__name__"
   ]
  },
  {
   "cell_type": "code",
   "execution_count": 130,
   "metadata": {
    "collapsed": false
   },
   "outputs": [
    {
     "name": "stdout",
     "output_type": "stream",
     "text": [
      "start magic\n",
      "normal call\n",
      "end magic\n"
     ]
    }
   ],
   "source": [
    "'''decorator inside a class for class method'''\n",
    "class Test(object):\n",
    "    def _decorator(foo):\n",
    "        def magic( self ) :\n",
    "            print \"start magic\"\n",
    "            foo( self )\n",
    "            print \"end magic\"\n",
    "        return magic\n",
    "\n",
    "    @_decorator\n",
    "    def bar( self ) :\n",
    "        print \"normal call\"\n",
    "\n",
    "test = Test()\n",
    "\n",
    "test.bar()"
   ]
  },
  {
   "cell_type": "code",
   "execution_count": 129,
   "metadata": {
    "collapsed": false
   },
   "outputs": [
    {
     "name": "stdout",
     "output_type": "stream",
     "text": [
      "in decorator before wrapee with flag  foo de fa fa\n",
      "in bar x y z\n",
      "in decorator after wrapee with flag  foo de fa fa\n"
     ]
    }
   ],
   "source": [
    "'''decorator outside class'''\n",
    "class MyDec(object):\n",
    "    def __init__(self,flag):\n",
    "        self.flag = flag\n",
    "    def __call__(self, original_func):\n",
    "        decorator_self = self\n",
    "        def wrappee( *args, **kwargs):\n",
    "            print 'in decorator before wrapee with flag ',decorator_self.flag\n",
    "            original_func(*args,**kwargs)\n",
    "            print 'in decorator after wrapee with flag ',decorator_self.flag\n",
    "        return wrappee\n",
    "\n",
    "@MyDec('foo de fa fa')\n",
    "def bar(a,b,c):\n",
    "    print 'in bar',a,b,c\n",
    "bar('x','y','z')"
   ]
  },
  {
   "cell_type": "code",
   "execution_count": 132,
   "metadata": {
    "collapsed": false
   },
   "outputs": [
    {
     "name": "stdout",
     "output_type": "stream",
     "text": [
      "<p>John Doe</p>\n"
     ]
    }
   ],
   "source": [
    "'''decorator inside a class for a function'''\n",
    "def p_decorate(func):\n",
    "    def func_wrapper(self):\n",
    "        return \"<p>{0}</p>\".format(func(self))\n",
    "    return func_wrapper\n",
    "\n",
    "class Person(object):\n",
    "    def __init__(self):\n",
    "        self.name = \"John\"\n",
    "        self.family = \"Doe\"\n",
    "\n",
    "    @p_decorate\n",
    "    def get_fullname(self):\n",
    "        return self.name+\" \"+self.family\n",
    "\n",
    "my_person = Person()\n",
    "print my_person.get_fullname()"
   ]
  },
  {
   "cell_type": "code",
   "execution_count": 183,
   "metadata": {
    "collapsed": false,
    "scrolled": true
   },
   "outputs": [
    {
     "name": "stdout",
     "output_type": "stream",
     "text": [
      "Once deleted, variables cannot be recovered. Proceed (y/[n])? y\n",
      "float32\n",
      "(4, 2, 3, 3)\n",
      "[[[[  18.   18.   18.]\n",
      "   [  18.   18.   18.]\n",
      "   [  18.   18.   18.]]\n",
      "\n",
      "  [[   0.    0.    0.]\n",
      "   [   0.    0.    0.]\n",
      "   [   0.    0.    0.]]]\n",
      "\n",
      "\n",
      " [[[   0.    0.    0.]\n",
      "   [   0.    0.    0.]\n",
      "   [   0.    0.    0.]]\n",
      "\n",
      "  [[ 108.  108.  108.]\n",
      "   [ 108.  108.  108.]\n",
      "   [ 108.  108.  108.]]]\n",
      "\n",
      "\n",
      " [[[   0.    0.    0.]\n",
      "   [   0.    0.    0.]\n",
      "   [   0.    0.    0.]]\n",
      "\n",
      "  [[   0.    0.    0.]\n",
      "   [   0.    0.    0.]\n",
      "   [   0.    0.    0.]]]\n",
      "\n",
      "\n",
      " [[[   0.    0.    0.]\n",
      "   [   0.    0.    0.]\n",
      "   [   0.    0.    0.]]\n",
      "\n",
      "  [[   0.    0.    0.]\n",
      "   [   0.    0.    0.]\n",
      "   [   0.    0.    0.]]]]\n"
     ]
    }
   ],
   "source": [
    "'''conv3d in theano and cudnn'''\n",
    "\n",
    "%reset\n",
    "import theano\n",
    "import theano.tensor as T\n",
    "from theano.sandbox.cuda.dnn import dnn_conv, dnn_conv3d\n",
    "from theano.tensor.nnet import conv2d\n",
    "import numpy as np\n",
    "\n",
    "theano.config.floatX = 'float32'\n",
    "floatX = theano.config.floatX\n",
    "\n",
    "print(theano.config.floatX)\n",
    "\n",
    "conv_dim = 2\n",
    "if conv_dim==2:\n",
    "    dtensor4 = T.TensorType(floatX, (False,)*4)\n",
    "    img = dtensor4(name='input')\n",
    "    kerns = dtensor4(name='weight')\n",
    "    base = dnn_conv(img = img, kerns = kerns, border_mode = 'valid', conv_mode = 'conv')        \n",
    "#     conved = base.sum(1)\n",
    "    conved = base\n",
    "    myconv2d = theano.function([img,kerns], conved)\n",
    "    \n",
    "    a = np.zeros((4,3,5,5), dtype=floatX)\n",
    "    a[0,0,:,:] = np.ones((5,5), dtype=floatX)\n",
    "    a[1,1,:,:] = 3*np.ones((5,5), dtype=floatX)\n",
    "    b = np.zeros((2,3,3,3), dtype=floatX)\n",
    "    b[0,0,:,:] = 2*np.ones((3,3), dtype=floatX)\n",
    "    b[1,1,:,:] = 4*np.ones((3,3), dtype=floatX)\n",
    "\n",
    "    c = np.asarray(myconv2d(a,b))\n",
    "    print(c.shape)\n",
    "    print(c)\n",
    "    \n",
    "else:        \n",
    "    dtensor5 = T.TensorType(floatX, (False,)*5)\n",
    "    img = dtensor5(name='input')\n",
    "    kerns = dtensor5(name='weight')\n",
    "#     dtensor4 = T.TensorType(floatX, (False,)*4)\n",
    "#     subsample = dtensor4(name='weight')\n",
    "    base = dnn_conv3d(img = img, kerns = kerns, border_mode = 'valid', conv_mode = 'conv')     \n",
    "#     conved = base.sum(1)\n",
    "    conved = base\n",
    "    conv3d = theano.function([img,kerns], conved)\n",
    "\n",
    "    a = np.zeros((4,3,5,5,5), dtype=floatX)\n",
    "    b = np.zeros((4,3,3,3,3), dtype=floatX) # # of channel in next layer, # of channel this layer, volume size\n",
    "    print(a.dtype)\n",
    "    print('input size',a.shape)\n",
    "    print('filter size',b.shape)\n",
    "    c = np.asarray(conv3d(a,b))\n",
    "    print('output size',c.shape)"
   ]
  },
  {
   "cell_type": "code",
   "execution_count": 29,
   "metadata": {
    "collapsed": false,
    "scrolled": true
   },
   "outputs": [
    {
     "name": "stdout",
     "output_type": "stream",
     "text": [
      "Once deleted, variables cannot be recovered. Proceed (y/[n])? y\n",
      "(4, 2, 3, 3)\n",
      "[[[[ 0.  0.  0.]\n",
      "   [ 0.  0.  0.]\n",
      "   [ 0.  0.  0.]]\n",
      "\n",
      "  [[ 0.  0.  0.]\n",
      "   [ 0.  0.  0.]\n",
      "   [ 0.  0.  0.]]]\n",
      "\n",
      "\n",
      " [[[ 0.  0.  0.]\n",
      "   [ 0.  0.  0.]\n",
      "   [ 0.  0.  0.]]\n",
      "\n",
      "  [[ 0.  0.  0.]\n",
      "   [ 0.  0.  0.]\n",
      "   [ 0.  0.  0.]]]\n",
      "\n",
      "\n",
      " [[[ 0.  0.  0.]\n",
      "   [ 0.  0.  0.]\n",
      "   [ 0.  0.  0.]]\n",
      "\n",
      "  [[ 0.  0.  0.]\n",
      "   [ 0.  0.  0.]\n",
      "   [ 0.  0.  0.]]]\n",
      "\n",
      "\n",
      " [[[ 0.  0.  0.]\n",
      "   [ 0.  0.  0.]\n",
      "   [ 0.  0.  0.]]\n",
      "\n",
      "  [[ 0.  0.  0.]\n",
      "   [ 0.  0.  0.]\n",
      "   [ 0.  0.  0.]]]]\n"
     ]
    }
   ],
   "source": [
    "'''2d cnn layer in blocks'''\n",
    "%reset\n",
    "import numpy as np\n",
    "import theano\n",
    "from theano import tensor\n",
    "from blocks.bricks.base import Brick\n",
    "from blocks.bricks.conv import (Convolutional, ConvolutionalSequence,Flattener, MaxPooling)\n",
    "from toolz.itertoolz import interleave\n",
    "from blocks.initialization import Constant, Uniform, IsotropicGaussian\n",
    "from blocks.bricks import MLP, Tanh, Softmax\n",
    "theano.config.floatX = 'float32'\n",
    "floatX = theano.config.floatX\n",
    "\n",
    "convnet = Convolutional(\n",
    "                    filter_size=(3,3),\n",
    "                    num_filters=2,\n",
    "                    num_channels=3,\n",
    "                    step=(1,1),\n",
    "                    border_mode='valid',\n",
    "                    weights_init = Constant(0),\n",
    "                    biases_init=Constant(0),\n",
    "                    name='conv_0')\n",
    "convnet.initialize()\n",
    "x = tensor.tensor4('features')\n",
    "h = convnet.apply(x)\n",
    "f = theano.function([x], h)\n",
    "\n",
    "a = np.zeros((4,3,5,5), dtype=floatX)\n",
    "a[0,0,:,:] = np.ones((5,5), dtype=floatX)\n",
    "a[1,1,:,:] = 3*np.ones((5,5), dtype=floatX)\n",
    "# b = np.zeros((4,3,3,3), dtype=floatX)\n",
    "# b[0,0,:,:] = 2*np.ones((3,3), dtype=floatX)\n",
    "# b[1,1,:,:] = 4*np.ones((3,3), dtype=floatX)\n",
    "c = f(a)\n",
    "print(c.shape)\n",
    "print(c)"
   ]
  },
  {
   "cell_type": "code",
   "execution_count": 65,
   "metadata": {
    "collapsed": false,
    "scrolled": true
   },
   "outputs": [
    {
     "name": "stdout",
     "output_type": "stream",
     "text": [
      "Once deleted, variables cannot be recovered. Proceed (y/[n])? y\n",
      "float32\n",
      "input size (2, 3, 5, 5, 5)\n",
      "filter size (2, 3, 3, 3, 3)\n",
      "[[[[[  54.   54.   54.]\n",
      "    [  54.   54.   54.]\n",
      "    [  54.   54.   54.]]\n",
      "\n",
      "   [[  54.   54.   54.]\n",
      "    [  54.   54.   54.]\n",
      "    [  54.   54.   54.]]\n",
      "\n",
      "   [[  54.   54.   54.]\n",
      "    [  54.   54.   54.]\n",
      "    [  54.   54.   54.]]]\n",
      "\n",
      "\n",
      "  [[[   0.    0.    0.]\n",
      "    [   0.    0.    0.]\n",
      "    [   0.    0.    0.]]\n",
      "\n",
      "   [[   0.    0.    0.]\n",
      "    [   0.    0.    0.]\n",
      "    [   0.    0.    0.]]\n",
      "\n",
      "   [[   0.    0.    0.]\n",
      "    [   0.    0.    0.]\n",
      "    [   0.    0.    0.]]]]\n",
      "\n",
      "\n",
      "\n",
      " [[[[   0.    0.    0.]\n",
      "    [   0.    0.    0.]\n",
      "    [   0.    0.    0.]]\n",
      "\n",
      "   [[   0.    0.    0.]\n",
      "    [   0.    0.    0.]\n",
      "    [   0.    0.    0.]]\n",
      "\n",
      "   [[   0.    0.    0.]\n",
      "    [   0.    0.    0.]\n",
      "    [   0.    0.    0.]]]\n",
      "\n",
      "\n",
      "  [[[ 324.  324.  324.]\n",
      "    [ 324.  324.  324.]\n",
      "    [ 324.  324.  324.]]\n",
      "\n",
      "   [[ 324.  324.  324.]\n",
      "    [ 324.  324.  324.]\n",
      "    [ 324.  324.  324.]]\n",
      "\n",
      "   [[ 324.  324.  324.]\n",
      "    [ 324.  324.  324.]\n",
      "    [ 324.  324.  324.]]]]]\n"
     ]
    }
   ],
   "source": [
    "% reset\n",
    "'''native 3d cnn brick in blocks'''\n",
    "import numpy as np\n",
    "from blocks.bricks.base import application, lazy\n",
    "from blocks.bricks import Brick\n",
    "from blocks.bricks import Feedforward, Initializable\n",
    "from theano.sandbox.cuda.dnn import dnn_conv, dnn_conv3d\n",
    "from theano.tensor.nnet import conv2d\n",
    "import theano\n",
    "import theano.tensor as T\n",
    "theano.config.floatX = 'float32'\n",
    "floatX = theano.config.floatX\n",
    "\n",
    "class Conv3d(Feedforward,Initializable):\n",
    "#     def __init__(**args):\n",
    "#         kerns\n",
    "    @application(inputs=['input1', 'input2'], outputs=['output'])\n",
    "    def apply(self, input1, input2):\n",
    "        base = dnn_conv3d(img = input1, kerns = input2, border_mode = 'valid', conv_mode = 'conv')     \n",
    "        conved = base\n",
    "        return conved\n",
    "conv3d = Conv3d()\n",
    "conv3d.initialize()\n",
    "\n",
    "# symbolic graph\n",
    "dtensor5 = T.TensorType(floatX, (False,)*5)\n",
    "img = dtensor5(name='input')\n",
    "kerns = dtensor5(name='weight')\n",
    "h = conv3d.apply(img,kerns)\n",
    "f = theano.function([img,kerns], h)\n",
    "\n",
    "# assign number\n",
    "a = np.zeros((2,3,5,5,5), dtype=floatX)\n",
    "b = np.zeros((2,3,3,3,3), dtype=floatX) # # of channel in next layer, # of channel this layer, volume size\n",
    "a[0,0,:,:,:] = np.ones((5,5), dtype=floatX)\n",
    "a[1,1,:,:,:] = 3*np.ones((5,5,5), dtype=floatX)\n",
    "b[0,0,:,:,:] = 2*np.ones((3,3,3), dtype=floatX)\n",
    "b[1,1,:,:,:] = 4*np.ones((3,3,3), dtype=floatX)\n",
    "print(a.dtype)\n",
    "print('input size',a.shape)\n",
    "print('filter size',b.shape)\n",
    "c = conv3d.apply(a,b)\n",
    "print(c.eval())"
   ]
  },
  {
   "cell_type": "code",
   "execution_count": 14,
   "metadata": {
    "collapsed": false
   },
   "outputs": [
    {
     "name": "stdout",
     "output_type": "stream",
     "text": [
      "Once deleted, variables cannot be recovered. Proceed (y/[n])? y\n"
     ]
    },
    {
     "data": {
      "text/plain": [
       "2"
      ]
     },
     "execution_count": 14,
     "metadata": {},
     "output_type": "execute_result"
    }
   ],
   "source": [
    "% reset\n",
    "from blocks.bricks.base import application, lazy\n",
    "from blocks.bricks import Feedforward, Linear\n",
    "from blocks.initialization import Constant, Uniform, IsotropicGaussian\n",
    "\n",
    "class ChainOfTwoFeedforward(Feedforward):\n",
    "    '''Two sequential Feedforward bricks'''\n",
    "    def __init__(self, brick1, brick2, **kwargs):\n",
    "        self.brick1 = brick1\n",
    "        self.brick2 = brick2\n",
    "        children = [self.brick1, self.brick2]\n",
    "        kwargs.setdefault('children', []).extend(children)\n",
    "        super(Feedforward, self).__init__(**kwargs)\n",
    "\n",
    "    @property\n",
    "    def input_dim(self):\n",
    "        return self.brick1.input_dim\n",
    "\n",
    "    @input_dim.setter\n",
    "    def input_dim(self, value):\n",
    "        self.brick1.input_dim = value\n",
    "\n",
    "    @property\n",
    "    def output_dim(self):\n",
    "        return self.brick2.output_dim\n",
    "\n",
    "    @output_dim.setter\n",
    "    def output_dim(self, value):\n",
    "        self.brick2.output_dim = value\n",
    "\n",
    "    def _push_allocation_config(self):\n",
    "        self.brick2.input_dim = self.brick1.get_dim('output')\n",
    "\n",
    "    @application\n",
    "    def apply(self, x):\n",
    "        return self.brick2.apply(self.brick1.apply(x))\n",
    "    \n",
    "brick1 = Linear(input_dim=3, output_dim=2, use_bias=False,weights_init=Constant(2))\n",
    "brick2 = Linear(output_dim=4, use_bias=False, weights_init=Constant(2))\n",
    "seq = ChainOfTwoFeedforward(brick1, brick2)\n",
    "seq.initialize()\n",
    "brick2.input_dim"
   ]
  },
  {
   "cell_type": "code",
   "execution_count": 18,
   "metadata": {
    "collapsed": false
   },
   "outputs": [
    {
     "name": "stdout",
     "output_type": "stream",
     "text": [
      "Once deleted, variables cannot be recovered. Proceed (y/[n])? y\n",
      "(Shape.0, Shape.0)\n",
      "(Shape.0, Shape.0)\n",
      "(Shape.0, Shape.0)\n",
      "(Shape.0, Shape.0)\n"
     ]
    }
   ],
   "source": [
    "%reset\n",
    "from blocks.bricks.sequences import MLP\n",
    "from blocks.bricks import Initializable, Tanh, Softmax, Identity\n",
    "from blocks.initialization import IsotropicGaussian, Constant\n",
    "\n",
    "# mlp = MLP(activations=[Tanh(), Softmax()], dims=[784, 100, 10],weights_init=IsotropicGaussian(0.01), biases_init=Constant(0))\n",
    "# mlp.initialize()\n",
    "# x = tensor.matrix('features')\n",
    "# y = tensor.lmatrix('targets')\n",
    "# y_hat = mlp.apply(x)\n",
    "\n",
    "import theano.tensor as tensor\n",
    "from blocks.bricks import Rectifier\n",
    "dim_att = 5\n",
    "n0 = 3\n",
    "l = tensor.matrix('l') # for a batch\n",
    "inits = {\n",
    "    'weights_init': IsotropicGaussian(0.01),\n",
    "    'biases_init': Constant(0.),\n",
    "}\n",
    "# rho = tensor.lmatrix('targets')\n",
    "x = tensor.matrix('features')  # keyword from fuel\n",
    "from attention_module.attention import ZoomableAttentionWindow\n",
    "zoomer = ZoomableAttentionWindow(1, 28, 28, 5)\n",
    "rho = zoomer.read_large(x, l[1], l[0]) # glimpse sensor in 2D\n",
    "linear0 = MLP(activations=[Identity()], dims=[dim_att*dim_att, n0], name=\"glimpse network 0\", **inits)\n",
    "rect0 = Rectifier()\n",
    "h_g = rect0.apply(linear0.apply(rho))  # theta_g^1"
   ]
  },
  {
   "cell_type": "code",
   "execution_count": 99,
   "metadata": {
    "collapsed": false
   },
   "outputs": [
    {
     "name": "stdout",
     "output_type": "stream",
     "text": [
      "[[[ 1.  1.  1.  1.]\n",
      "  [ 1.  1.  1.  1.]]\n",
      "\n",
      " [[ 2.  2.  2.  2.]\n",
      "  [ 2.  2.  2.  2.]]\n",
      "\n",
      " [[ 3.  3.  3.  3.]\n",
      "  [ 3.  3.  3.  3.]]\n",
      "\n",
      " [[ 4.  4.  4.  4.]\n",
      "  [ 4.  4.  4.  4.]]\n",
      "\n",
      " [[ 5.  5.  5.  5.]\n",
      "  [ 5.  5.  5.  5.]]]\n"
     ]
    }
   ],
   "source": [
    "'''simple RNN in blocks'''\n",
    "import numpy\n",
    "import theano\n",
    "from theano import tensor\n",
    "from blocks import initialization\n",
    "from blocks.bricks import Identity\n",
    "from blocks.bricks.recurrent import SimpleRecurrent\n",
    "\n",
    "x = tensor.tensor3('x')\n",
    "rnn = SimpleRecurrent(dim=4, activation=Identity(), weights_init=initialization.Identity())\n",
    "rnn.initialize()\n",
    "h = rnn.apply(x)\n",
    "f = theano.function([x], h)\n",
    "print(f(numpy.ones((5, 2, 4), dtype=theano.config.floatX)))"
   ]
  },
  {
   "cell_type": "code",
   "execution_count": 8,
   "metadata": {
    "collapsed": false
   },
   "outputs": [
    {
     "name": "stdout",
     "output_type": "stream",
     "text": [
      "[[[  1.   1.   1.]\n",
      "  [  1.   1.   1.]]\n",
      "\n",
      " [[  3.   3.   3.]\n",
      "  [  3.   3.   3.]]\n",
      "\n",
      " [[  8.   8.   8.]\n",
      "  [  8.   8.   8.]]\n",
      "\n",
      " [[ 21.  21.  21.]\n",
      "  [ 21.  21.  21.]]]\n",
      "[[[  1.   1.   1.]\n",
      "  [  1.   1.   1.]]\n",
      "\n",
      " [[  4.   4.   4.]\n",
      "  [  4.   4.   4.]]\n",
      "\n",
      " [[ 12.  12.  12.]\n",
      "  [ 12.  12.  12.]]\n",
      "\n",
      " [[ 33.  33.  33.]\n",
      "  [ 33.  33.  33.]]]\n"
     ]
    }
   ],
   "source": [
    "'''two layer rnn in blocks'''\n",
    "import numpy\n",
    "import theano\n",
    "from theano import tensor\n",
    "from blocks.bricks import Identity\n",
    "from blocks import initialization\n",
    "from blocks.bricks.recurrent import BaseRecurrent, recurrent\n",
    "from blocks.bricks.recurrent import SimpleRecurrent\n",
    "class FeedbackRNN(BaseRecurrent):\n",
    "    def __init__(self, dim, **kwargs):\n",
    "        super(FeedbackRNN, self).__init__(**kwargs)\n",
    "        self.dim = dim\n",
    "        self.first_recurrent_layer = SimpleRecurrent(dim=self.dim, activation=Identity(), name='first_recurrent_layer',weights_init=initialization.Identity())\n",
    "        self.second_recurrent_layer = SimpleRecurrent(dim=self.dim, activation=Identity(), name='second_recurrent_layer',weights_init=initialization.Identity())\n",
    "        self.children = [self.first_recurrent_layer,self.second_recurrent_layer]\n",
    "\n",
    "    @recurrent(sequences=['inputs'], contexts=[],states=['first_states', 'second_states'],outputs=['first_states', 'second_states'])\n",
    "    def apply(self, inputs, first_states=None, second_states=None):\n",
    "        first_h = self.first_recurrent_layer.apply(inputs=inputs, states=first_states + second_states, iterate=False)\n",
    "        second_h = self.second_recurrent_layer.apply(inputs=first_h, states=second_states, iterate=False)\n",
    "        return first_h, second_h\n",
    "\n",
    "    def get_dim(self, name):\n",
    "        return (self.dim if name in ('inputs', 'first_states', 'second_states')\n",
    "        else super(FeedbackRNN, self).get_dim(name))\n",
    "\n",
    "x = tensor.tensor3('x')\n",
    "feedback = FeedbackRNN(dim=3)\n",
    "feedback.initialize()\n",
    "first_h, second_h = feedback.apply(inputs=x)\n",
    "f = theano.function([x], [first_h, second_h])\n",
    "for states in f(numpy.ones((4, 2, 3), dtype=theano.config.floatX)):\n",
    "    print(states)"
   ]
  },
  {
   "cell_type": "code",
   "execution_count": 203,
   "metadata": {
    "collapsed": false
   },
   "outputs": [
    {
     "data": {
      "text/plain": [
       "3"
      ]
     },
     "execution_count": 203,
     "metadata": {},
     "output_type": "execute_result"
    }
   ],
   "source": [
    "states.ndim"
   ]
  },
  {
   "cell_type": "code",
   "execution_count": 2,
   "metadata": {
    "collapsed": false
   },
   "outputs": [],
   "source": [
    "'''save data to hdf5 format, from Max'''\n",
    "\n",
    "import numpy as np\n",
    "import h5py\n",
    "import tarfile, os\n",
    "import sys\n",
    "import cStringIO as StringIO\n",
    "import tarfile\n",
    "import time\n",
    "import zlib\n",
    "\n",
    "PREFIX = 'data/'\n",
    "SUFFIX = '.npy.z'\n",
    "\n",
    "class NpyTarReader(object):\n",
    "    def __init__(self, fname):\n",
    "        self.tfile = tarfile.open(fname, 'r|')\n",
    "\n",
    "    def __iter__(self):\n",
    "        return self\n",
    "\n",
    "    def __next__(self):\n",
    "        return self.next()\n",
    "\n",
    "    def next(self):\n",
    "        entry = self.tfile.next()\n",
    "        if entry is None:\n",
    "            raise StopIteration()\n",
    "        name = entry.name[len(PREFIX):-len(SUFFIX)]\n",
    "        fileobj = self.tfile.extractfile(entry)\n",
    "        buf = zlib.decompress(fileobj.read())\n",
    "        arr = np.load(StringIO.StringIO(buf))\n",
    "        return arr, name\n",
    "\n",
    "    def close(self):\n",
    "        self.tfile.close()\n",
    "\n",
    "train_dataset = NpyTarReader('/home/hope-yao/Documents/Data/pot_cup/more_data_mixsal0.1/shapenet10_train.tar')\n",
    "test_dataset = NpyTarReader('/home/hope-yao/Documents/Data/pot_cup/more_data_mixsal0.1/shapenet10_test.tar')\n",
    "\n",
    "train_features = []\n",
    "train_targets = []\n",
    "test_features = []\n",
    "test_targets = []\n",
    "for index, (array, name) in enumerate(train_dataset):\n",
    "    if int(name[-3:])==1:\n",
    "#         train_features.append(array.flatten())\n",
    "        train_features.append(array.reshape(1,array.shape[0],array.shape[1],array.shape[2]))\n",
    "        train_targets.append([int(name[0:3])])\n",
    "for index, (array, name) in enumerate(test_dataset):\n",
    "    if int(name[-3:]) == 1:\n",
    "#         test_features.append(array.flatten())\n",
    "        test_features.append(array.reshape(1,array.shape[0],array.shape[1],array.shape[2]))\n",
    "        test_targets.append([int(name[0:3])])\n",
    "\n",
    "train_features = np.array(train_features)\n",
    "train_targets = np.array(train_targets)-1 #starts from 0\n",
    "test_features = np.array(test_features)\n",
    "test_targets = np.array(test_targets)-1\n",
    "train_n, c, p1, p2, p3 = train_features.shape\n",
    "test_n = test_features.shape[0]\n",
    "n = train_n + test_n\n",
    "\n",
    "f = h5py.File('potcup_sal.hdf5', mode='w')\n",
    "features = f.create_dataset('input', (n, c, p1, p2, p3), dtype='uint8')\n",
    "targets = f.create_dataset('targets', (n, 1), dtype='uint8')\n",
    "\n",
    "features[...] = np.vstack([train_features, test_features])\n",
    "targets[...] = np.vstack([train_targets, test_targets])\n",
    "\n",
    "features.dims[0].label = 'batch'\n",
    "features.dims[1].label = 'input'\n",
    "targets.dims[0].label = 'batch'\n",
    "targets.dims[1].label = 'index'\n",
    "\n",
    "from fuel.datasets.hdf5 import H5PYDataset\n",
    "split_dict = {\n",
    "    'train': {'input': (0, train_n), 'targets': (0, train_n)},\n",
    "    'test': {'input': (train_n, n), 'targets': (train_n, n)}}\n",
    "f.attrs['split'] = H5PYDataset.create_split_array(split_dict)\n",
    "\n",
    "f.flush()\n",
    "f.close()"
   ]
  },
  {
   "cell_type": "code",
   "execution_count": 41,
   "metadata": {
    "collapsed": false
   },
   "outputs": [
    {
     "data": {
      "text/plain": [
       "(3977, 1)"
      ]
     },
     "execution_count": 41,
     "metadata": {},
     "output_type": "execute_result"
    }
   ],
   "source": [
    "train_targets.shape"
   ]
  },
  {
   "cell_type": "code",
   "execution_count": 20,
   "metadata": {
    "collapsed": false
   },
   "outputs": [
    {
     "name": "stdout",
     "output_type": "stream",
     "text": [
      "Once deleted, variables cannot be recovered. Proceed (y/[n])? y\n"
     ]
    }
   ],
   "source": [
    "'''loading fuel dataset'''\n",
    "% reset\n",
    "from fuel.datasets.hdf5 import H5PYDataset\n",
    "mnist_train = H5PYDataset('/home/hope-yao/Documents/Data/mnist.hdf5', which_sets=('train',))\n",
    "mnist_test = H5PYDataset('/home/hope-yao/Documents/Data/mnist.hdf5', which_sets=('test',))"
   ]
  },
  {
   "cell_type": "code",
   "execution_count": 21,
   "metadata": {
    "collapsed": false,
    "scrolled": true
   },
   "outputs": [
    {
     "name": "stdout",
     "output_type": "stream",
     "text": [
      "(u'features', u'targets')\n",
      "(60000, 1)\n",
      "(10000, 1, 28, 28)\n"
     ]
    }
   ],
   "source": [
    "print(mnist_train.provides_sources)\n",
    "handle = mnist_train.open()\n",
    "train_data = mnist_train.get_data(handle, slice(0, 60000))\n",
    "handletest = mnist_test.open()\n",
    "test_data = mnist_test.get_data(handletest, slice(0, 10000))\n",
    "\n",
    "print((train_data[1].shape))\n",
    "train_features = train_data[0]\n",
    "train_targets = train_data[1]\n",
    "print((test_data[0].shape))\n",
    "test_features = test_data[0]\n",
    "test_targets = test_data[1]"
   ]
  },
  {
   "cell_type": "code",
   "execution_count": 93,
   "metadata": {
    "collapsed": false
   },
   "outputs": [],
   "source": [
    "import numpy as np\n",
    "import h5py\n",
    "import tarfile, os\n",
    "import sys\n",
    "import cStringIO as StringIO\n",
    "import tarfile\n",
    "import time\n",
    "import zlib\n",
    "n = 70000\n",
    "c = 1\n",
    "p1 = p2 = 28\n",
    "train_n = 60000\n",
    "test_n = 10000\n",
    "\n",
    "f = h5py.File('bmnist.hdf5', mode='w')\n",
    "features = f.create_dataset('features', (n, c, p1, p2), dtype='uint8')\n",
    "targets = f.create_dataset('targets', (n, 1), dtype='uint8')\n",
    "\n",
    "train_features = train_features/128\n",
    "test_features = test_features/128\n",
    "\n",
    "features[...] = np.vstack([train_features, test_features])\n",
    "targets[...] = np.vstack([train_targets, test_targets])\n",
    "\n",
    "features.dims[0].label = 'batch'\n",
    "features.dims[1].label = 'input'\n",
    "targets.dims[0].label = 'batch'\n",
    "targets.dims[1].label = 'index'\n",
    "\n",
    "from fuel.datasets.hdf5 import H5PYDataset\n",
    "split_dict = {\n",
    "    'train': {'features': (0, train_n), 'targets': (0, train_n)},\n",
    "    'test': {'features': (train_n, n), 'targets': (train_n, n)}}\n",
    "f.attrs['split'] = H5PYDataset.create_split_array(split_dict)\n",
    "\n",
    "f.flush()\n",
    "f.close()"
   ]
  },
  {
   "cell_type": "code",
   "execution_count": 7,
   "metadata": {
    "collapsed": false
   },
   "outputs": [],
   "source": [
    "from fuel.streams import DataStream\n",
    "from fuel.schemes import ShuffledScheme\n",
    "batch_size = 100\n",
    "train_set_stream = DataStream.default_stream(\n",
    "    train_set, iteration_scheme=ShuffledScheme(\n",
    "        train_set.num_examples, batch_size))"
   ]
  },
  {
   "cell_type": "code",
   "execution_count": 39,
   "metadata": {
    "collapsed": false,
    "scrolled": true
   },
   "outputs": [
    {
     "name": "stdout",
     "output_type": "stream",
     "text": [
      "((False, False, False, True), (False,))\n"
     ]
    },
    {
     "data": {
      "text/plain": [
       "(3200, 3, 32, 3200)"
      ]
     },
     "execution_count": 39,
     "metadata": {},
     "output_type": "execute_result"
    }
   ],
   "source": [
    "import theano.tensor as tensor\n",
    "A = tensor.zeros((3200, 3, 32, 1))\n",
    "B = tensor.zeros((3200))\n",
    "print(A.broadcastable,B.broadcastable)\n",
    "# B = B.transpose([0, 2, 1])\n",
    "# A.dimshuffle([0,1,2,'x']) * B.dimshuffle([0,'x',1,2])     \n",
    "C=(A*B).eval()\n",
    "C.shape"
   ]
  },
  {
   "cell_type": "code",
   "execution_count": 192,
   "metadata": {
    "collapsed": false
   },
   "outputs": [],
   "source": [
    "'''upsample in post-process'''\n",
    "import numpy as np\n",
    "import scipy.ndimage as ndimage\n",
    "inarr = np.ones((32,32,32))\n",
    "def upsample(X,d):\n",
    "    XX = np.zeros((X.shape[0],X.shape[1],d*X.shape[2],d*X.shape[3],d*X.shape[4]))\n",
    "    for i,xi in enumerate(X):\n",
    "        for j,xij in enumerate(xi):\n",
    "            tmp = (ndimage.zoom(xij, d))\n",
    "            XX[i,j,:,:,:] = tmp\n",
    "    return np.float32(XX)"
   ]
  },
  {
   "cell_type": "code",
   "execution_count": 193,
   "metadata": {
    "collapsed": false
   },
   "outputs": [],
   "source": [
    "'''project upper layer filter back to the input layer'''\n",
    "from theano.sandbox.cuda.dnn import dnn_conv3d\n",
    "def deconv(W0,W1):\n",
    "    print(W0.shape)\n",
    "    print(W1.shape)\n",
    "    filter_size = W0.shape[2:5]\n",
    "    num_filter = W0.shape[0]\n",
    "    num_ch = W1.shape[0]\n",
    "    W1_layer0 = dnn_conv3d(img=W1,kerns=W0.transpose(1,0,2,3,4),border_mode='valid',subsample=(1,1,1))\n",
    "    W1_layer0 = np.asarray(W1_layer0.eval())\n",
    "    print(W1_layer0.shape)\n",
    "    return W1_layer0"
   ]
  },
  {
   "cell_type": "code",
   "execution_count": 102,
   "metadata": {
    "collapsed": false
   },
   "outputs": [
    {
     "data": {
      "text/plain": [
       "3"
      ]
     },
     "execution_count": 102,
     "metadata": {},
     "output_type": "execute_result"
    }
   ],
   "source": [
    "a = (1,2,3)\n",
    "len(a)"
   ]
  },
  {
   "cell_type": "code",
   "execution_count": 9,
   "metadata": {
    "collapsed": false
   },
   "outputs": [],
   "source": [
    "'''visualize 3D data'''\n",
    "def plot_cube(ax,x,y,z,a):\n",
    "    \"x y z location and alpha\"\n",
    "    inc = 1\n",
    "    ax.plot_surface([[x,x+inc],[x,x+inc]],[[y,y],[y+inc,y+inc]],z, alpha=a)\n",
    "    ax.plot_surface([[x,x+inc],[x,x+inc]],[[y,y],[y+inc,y+inc]],z+inc, alpha=a)\n",
    "\n",
    "    ax.plot_surface(x,[[y,y],[y+inc,y+inc]],[[z,z+inc],[z,z+inc]], alpha=a)\n",
    "    ax.plot_surface(x+inc,[[y,y],[y+inc,y+inc]],[[z,z+inc],[z,z+inc]], alpha=a)\n",
    "\n",
    "    ax.plot_surface([[x,x],[x+inc,x+inc]],y,[[z,z+inc],[z,z+inc]], alpha=a)\n",
    "    ax.plot_surface([[x,x],[x+inc,x+inc]],y+inc,[[z,z+inc],[z,z+inc]], alpha=a)"
   ]
  },
  {
   "cell_type": "code",
   "execution_count": null,
   "metadata": {
    "collapsed": true
   },
   "outputs": [],
   "source": [
    "'''filter visualization'''\n",
    "def viz1(V):\n",
    "    V = V/np.max(V) * 0.3 \n",
    "    V[V<0]=0\n",
    "    fig = plt.figure()\n",
    "    ax = fig.add_subplot(111, projection='3d')\n",
    "    for i in range(V.shape[0]):\n",
    "        for j in range(V.shape[1]):\n",
    "            for k in range(V.shape[2]):\n",
    "                if V[i,j,k]!=0:\n",
    "                    plot_cube(ax,i,j,k,V[i,j,k])\n",
    "    plt.show()"
   ]
  },
  {
   "cell_type": "code",
   "execution_count": 22,
   "metadata": {
    "collapsed": false
   },
   "outputs": [],
   "source": [
    "'''much faster filter visualization'''\n",
    "# % reset\n",
    "from mpl_toolkits.mplot3d import Axes3D\n",
    "import matplotlib.pyplot as plt\n",
    "def viz2(V):\n",
    "    V = V/np.max(V) * 0.3 \n",
    "    V[V<0]=0\n",
    "    \n",
    "    x=y=z=t=[]\n",
    "    for i in range(V.shape[0]):\n",
    "        for j in range(V.shape[1]):\n",
    "            for k in range(V.shape[2]):\n",
    "                if V[i,j,k]!=0:\n",
    "                    x = x + [i]\n",
    "                    y = y + [j]\n",
    "                    z = z + [k]\n",
    "                    t = t + [V[i,j,k]]\n",
    "    x = np.asarray(x)\n",
    "    y = np.asarray(y)\n",
    "    z = np.asarray(z)\n",
    "    t = np.asarray(z)\n",
    "    \n",
    "    fig = plt.figure()\n",
    "    ax = fig.add_subplot(111, projection='3d')\n",
    "    im = ax.scatter(x, y, z, c=t, marker='o', s=50)\n",
    "    ax.set_xlabel('X Label')\n",
    "    ax.set_ylabel('Y Label')\n",
    "    ax.set_zlabel('Z Label')\n",
    "    plt.xlim(0,V.shape[0])\n",
    "    plt.ylim(0,V.shape[1])\n",
    "#     plt.zlim((0,V.shape[2]))\n",
    "    cax = fig.add_axes([0.27, 0.8, 0.5, 0.05])\n",
    "    fig.colorbar(im, cax=cax, orientation='horizontal')\n",
    "    plt.show()"
   ]
  },
  {
   "cell_type": "code",
   "execution_count": 20,
   "metadata": {
    "collapsed": true
   },
   "outputs": [],
   "source": [
    "import numpy as np\n",
    "import matplotlib.pyplot as plt\n",
    "from pylab import *\n",
    "\n",
    "# the random data\n",
    "x = np.random.randn(1000)\n",
    "y = np.random.randn(1000)\n",
    "\n",
    "fig = plt.figure(1, figsize=(5.5,5.5))\n",
    "\n",
    "X, Y = meshgrid(x, y)\n",
    "Z1 = bivariate_normal(X, Y, 1.0, 1.0, 0.0, 0.0)\n",
    "Z2 = bivariate_normal(X, Y, 1.5, 0.5, 1, 1)\n",
    "Z = 10 * (Z1 - Z2)\n",
    "\n",
    "title('Nonsense')\n",
    "xlabel('x-stuff')\n",
    "ylabel('y-stuff')\n",
    "\n",
    "# the scatter plot:\n",
    "axScatter = plt.subplot(111)\n",
    "axScatter.scatter(x, y)\n",
    "\n",
    "# set axes range\n",
    "plt.xlim(-2, 2)\n",
    "plt.ylim(-2, 2)\n",
    "\n",
    "show()"
   ]
  },
  {
   "cell_type": "code",
   "execution_count": 182,
   "metadata": {
    "collapsed": false
   },
   "outputs": [
    {
     "data": {
      "text/plain": [
       "(18, 1)"
      ]
     },
     "execution_count": 182,
     "metadata": {},
     "output_type": "execute_result"
    }
   ],
   "source": [
    "from fuel.datasets.hdf5 import H5PYDataset\n",
    "train_set = H5PYDataset('potcup_vox.hdf5', which_sets=('train',))\n",
    "handle = train_set.open()\n",
    "train_data = train_set.get_data(handle, slice(0, 18))\n",
    "train_data[1].shape"
   ]
  },
  {
   "cell_type": "code",
   "execution_count": 190,
   "metadata": {
    "collapsed": false
   },
   "outputs": [
    {
     "name": "stdout",
     "output_type": "stream",
     "text": [
      "Once deleted, variables cannot be recovered. Proceed (y/[n])? y\n",
      "[[0, 1, 2, 3], [4, 5, 6, 7]]\n",
      "[[8, 2, 6, 7], [1, 0, 4, 3], [5]]\n",
      "[0, 1, 2, 3, 4, 5, 6, 7]\n",
      "[7, 2, 1, 6, 0, 4, 3, 5]\n"
     ]
    }
   ],
   "source": [
    "% reset\n",
    "from fuel.schemes import (SequentialScheme, ShuffledScheme,\n",
    "                   SequentialExampleScheme, ShuffledExampleScheme)\n",
    "schemes = [SequentialScheme(examples=8, batch_size=4),\n",
    "    ShuffledScheme(examples=9, batch_size=4),\n",
    "    SequentialExampleScheme(examples=8),\n",
    "    ShuffledExampleScheme(examples=8)]\n",
    "for scheme in schemes:\n",
    "    print(list(scheme.get_request_iterator()))"
   ]
  },
  {
   "cell_type": "code",
   "execution_count": 195,
   "metadata": {
    "collapsed": false,
    "scrolled": true
   },
   "outputs": [
    {
     "name": "stdout",
     "output_type": "stream",
     "text": [
      "(16, 1, 5, 5, 5)\n",
      "(24, 16, 10, 10, 10)\n",
      "(24, 1, 6, 6, 6)\n"
     ]
    }
   ],
   "source": [
    "import numpy\n",
    "import matplotlib.pyplot as plt\n",
    "from mpl_toolkits.mplot3d import axes3d\n",
    "\n",
    "import tarfile\n",
    "tarball = tarfile.open('3DLeNet.pkl', 'r')\n",
    "ps = numpy.load(tarball.extractfile(tarball.getmember('_parameters')))\n",
    "sorted(ps.keys())\n",
    "\n",
    "W0 = ps['|lenet|convolutionalsequence3|conv_0.W']\n",
    "W1 = ps['|lenet|convolutionalsequence3|conv_1.W']\n",
    "W1 = upsample(W1, 2)\n",
    "\n",
    "W1_layer0 = deconv(W0,W1)\n",
    "# V = W1_layer0[10,0,:,:,:]\n",
    "# viz2(V)"
   ]
  },
  {
   "cell_type": "code",
   "execution_count": 134,
   "metadata": {
    "collapsed": false
   },
   "outputs": [
    {
     "data": {
      "text/plain": [
       "['/mlp/linear_1.W', '/mlp/linear_1.b', '/mlp/linear_0.b', '/mlp/linear_0.W']"
      ]
     },
     "execution_count": 134,
     "metadata": {},
     "output_type": "execute_result"
    }
   ],
   "source": [
    "(parameters.keys())"
   ]
  },
  {
   "cell_type": "code",
   "execution_count": 107,
   "metadata": {
    "collapsed": false
   },
   "outputs": [
    {
     "data": {
      "text/plain": [
       "<tarfile.TarFile at 0x7fc4f1457e90>"
      ]
     },
     "execution_count": 107,
     "metadata": {},
     "output_type": "execute_result"
    }
   ],
   "source": [
    "'''save and load blocks model'''\n",
    "from theano import tensor\n",
    "from blocks.main_loop import MainLoop\n",
    "from blocks.bricks import MLP, Tanh, Softmax\n",
    "from blocks.model import Model\n",
    "mlp = MLP([Tanh(), None], [784, 10, 10])\n",
    "x = tensor.matrix('features')\n",
    "y = tensor.lmatrix('targets')\n",
    "cost = Softmax().categorical_cross_entropy(\n",
    "            y.flatten(), mlp.apply(tensor.flatten(x, outdim=2)))\n",
    "main_loop = MainLoop(None, None, model=Model(cost))\n",
    "from blocks.serialization import dump, load\n",
    "import tarfile\n",
    "with open('main_loop.tar', 'wb') as dst:\n",
    "     dump(main_loop, dst)\n",
    "tarball = tarfile.open('main_loop.tar', 'r')\n",
    "tarball # doctest: +ELLIPSIS"
   ]
  },
  {
   "cell_type": "code",
   "execution_count": 108,
   "metadata": {
    "collapsed": false
   },
   "outputs": [
    {
     "data": {
      "text/plain": [
       "['_pkl']"
      ]
     },
     "execution_count": 108,
     "metadata": {},
     "output_type": "execute_result"
    }
   ],
   "source": [
    "tarball.getnames()"
   ]
  },
  {
   "cell_type": "code",
   "execution_count": 109,
   "metadata": {
    "collapsed": true
   },
   "outputs": [],
   "source": [
    "tarball.close()"
   ]
  },
  {
   "cell_type": "code",
   "execution_count": 110,
   "metadata": {
    "collapsed": false
   },
   "outputs": [
    {
     "data": {
      "text/plain": [
       "['_parameters', '_pkl']"
      ]
     },
     "execution_count": 110,
     "metadata": {},
     "output_type": "execute_result"
    }
   ],
   "source": [
    "with open('main_loop.tar', 'wb') as dst:\n",
    "     dump(main_loop, dst,\n",
    "          parameters=main_loop.model.parameters)\n",
    "tarball = tarfile.open('main_loop.tar', 'r')\n",
    "tarball.getnames()"
   ]
  },
  {
   "cell_type": "code",
   "execution_count": 112,
   "metadata": {
    "collapsed": false
   },
   "outputs": [
    {
     "data": {
      "text/plain": [
       "['|mlp|linear_0.W', '|mlp|linear_0.b', '|mlp|linear_1.W', '|mlp|linear_1.b']"
      ]
     },
     "execution_count": 112,
     "metadata": {},
     "output_type": "execute_result"
    }
   ],
   "source": [
    "import numpy\n",
    "ps = numpy.load(tarball.extractfile(tarball.getmember('_parameters')))\n",
    "sorted(ps.keys()) # doctest: +ELLIPSIS"
   ]
  },
  {
   "cell_type": "code",
   "execution_count": 113,
   "metadata": {
    "collapsed": false
   },
   "outputs": [
    {
     "data": {
      "text/plain": [
       "<blocks.main_loop.MainLoop at 0x7fc4f131b650>"
      ]
     },
     "execution_count": 113,
     "metadata": {},
     "output_type": "execute_result"
    }
   ],
   "source": [
    "ps.close()\n",
    "with open('main_loop.tar', 'rb') as src:\n",
    "     main_loop_loaded = load(src)\n",
    "main_loop_loaded # doctest: +ELLIPSIS"
   ]
  },
  {
   "cell_type": "code",
   "execution_count": 117,
   "metadata": {
    "collapsed": false
   },
   "outputs": [
    {
     "data": {
      "text/plain": [
       "['/mlp/linear_0.W', '/mlp/linear_0.b', '/mlp/linear_1.W', '/mlp/linear_1.b']"
      ]
     },
     "execution_count": 117,
     "metadata": {},
     "output_type": "execute_result"
    }
   ],
   "source": [
    "from blocks.serialization import load_parameters\n",
    "with open('main_loop.tar', 'rb') as src:\n",
    "     parameters = load_parameters(src)\n",
    "sorted(parameters.keys()) # doctest: +ELLIPSIS"
   ]
  },
  {
   "cell_type": "code",
   "execution_count": 175,
   "metadata": {
    "collapsed": false
   },
   "outputs": [
    {
     "data": {
      "text/plain": [
       "0.95996732026143794"
      ]
     },
     "execution_count": 175,
     "metadata": {},
     "output_type": "execute_result"
    }
   ],
   "source": [
    "'''Adaboost'''\n",
    "from sklearn.cross_validation import cross_val_score\n",
    "from sklearn.datasets import load_iris\n",
    "from sklearn.ensemble import AdaBoostClassifier\n",
    "\n",
    "iris = load_iris()\n",
    "clf = AdaBoostClassifier(n_estimators=15)\n",
    "scores = cross_val_score(clf, iris.data, iris.target)\n",
    "scores.mean()"
   ]
  },
  {
   "cell_type": "code",
   "execution_count": 26,
   "metadata": {
    "collapsed": false
   },
   "outputs": [
    {
     "data": {
      "text/plain": [
       "<blocks.bricks.sequences.MLP object at 0x7f58442f42d0: name=mlp>"
      ]
     },
     "execution_count": 26,
     "metadata": {},
     "output_type": "execute_result"
    }
   ],
   "source": [
    "'''blocks pickle and load'''\n",
    "from theano import tensor\n",
    "from blocks.bricks import MLP, Tanh\n",
    "from blocks.model import Model\n",
    "\n",
    "x = tensor.matrix('x')\n",
    "mlp = MLP([Tanh(), Tanh()], [10, 10, 10])\n",
    "y = mlp.apply(x)\n",
    "model = Model(y)\n",
    "model.get_top_bricks()[0]\n"
   ]
  }
 ],
 "metadata": {
  "kernelspec": {
   "display_name": "Python [Root]",
   "language": "python",
   "name": "Python [Root]"
  },
  "language_info": {
   "codemirror_mode": {
    "name": "ipython",
    "version": 2
   },
   "file_extension": ".py",
   "mimetype": "text/x-python",
   "name": "python",
   "nbconvert_exporter": "python",
   "pygments_lexer": "ipython2",
   "version": "2.7.12"
  }
 },
 "nbformat": 4,
 "nbformat_minor": 0
}
